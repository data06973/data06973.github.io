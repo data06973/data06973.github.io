{
 "cells": [
  {
   "cell_type": "markdown",
   "id": "96bea9a8",
   "metadata": {},
   "source": [
    "# Calgary On-Street Parking Zones: Data Cleaning, EDA, and Storytelling"
   ]
  },
  {
   "cell_type": "code",
   "execution_count": null,
   "id": "7cae7e33",
   "metadata": {},
   "outputs": [],
   "source": [
    "import pandas as pd\n",
    "\n",
    "# Load the dataset\n",
    "url = \"https://data.calgary.ca/api/views/45az-7kh9/rows.csv?accessType=DOWNLOAD\"\n",
    "df = pd.read_csv(url)\n",
    "\n",
    "# Display basic information\n",
    "print(\"Dataset Shape:\", df.shape)\n",
    "print(\"Column Names:\", df.columns.tolist())\n",
    "df.head()\n"
   ]
  },
  {
   "cell_type": "markdown",
   "id": "3ef86d80",
   "metadata": {},
   "source": [
    "## Data Cleaning"
   ]
  },
  {
   "cell_type": "code",
   "execution_count": null,
   "id": "89eca0f5",
   "metadata": {},
   "outputs": [],
   "source": [
    "# Check for missing values\n",
    "missing_values = df.isnull().sum()\n",
    "print(\"Missing Values:\\n\", missing_values)\n",
    "\n",
    "# Drop rows with missing 'PRICE_ZONE' or 'HOURLY_RATE'\n",
    "df_clean = df.dropna(subset=['PRICE_ZONE', 'HOURLY_RATE'])\n",
    "\n",
    "# Convert 'HOURLY_RATE' to numeric\n",
    "df_clean['HOURLY_RATE'] = pd.to_numeric(df_clean['HOURLY_RATE'], errors='coerce')\n",
    "\n",
    "# Drop rows with invalid 'HOURLY_RATE'\n",
    "df_clean = df_clean.dropna(subset=['HOURLY_RATE'])\n",
    "\n",
    "# Reset index\n",
    "df_clean.reset_index(drop=True, inplace=True)\n",
    "df_clean.head()\n"
   ]
  },
  {
   "cell_type": "markdown",
   "id": "85e0b445",
   "metadata": {},
   "source": [
    "## Exploratory Data Analysis"
   ]
  },
  {
   "cell_type": "code",
   "execution_count": null,
   "id": "f478021e",
   "metadata": {},
   "outputs": [],
   "source": [
    "import matplotlib.pyplot as plt\n",
    "import seaborn as sns\n",
    "\n",
    "# Distribution of Hourly Rates\n",
    "plt.figure(figsize=(10,6))\n",
    "sns.histplot(df_clean['HOURLY_RATE'], bins=20, kde=True)\n",
    "plt.title('Distribution of Hourly Parking Rates')\n",
    "plt.xlabel('Hourly Rate ($)')\n",
    "plt.ylabel('Frequency')\n",
    "plt.show()\n"
   ]
  },
  {
   "cell_type": "code",
   "execution_count": null,
   "id": "58d5f315",
   "metadata": {},
   "outputs": [],
   "source": [
    "# Average Hourly Rate by Price Zone\n",
    "avg_rate_by_zone = df_clean.groupby('PRICE_ZONE')['HOURLY_RATE'].mean().sort_values(ascending=False)\n",
    "\n",
    "plt.figure(figsize=(12,6))\n",
    "sns.barplot(x=avg_rate_by_zone.index, y=avg_rate_by_zone.values)\n",
    "plt.title('Average Hourly Rate by Price Zone')\n",
    "plt.xlabel('Price Zone')\n",
    "plt.ylabel('Average Hourly Rate ($)')\n",
    "plt.xticks(rotation=45)\n",
    "plt.show()\n"
   ]
  },
  {
   "cell_type": "markdown",
   "id": "91493f02",
   "metadata": {},
   "source": [
    "## Geospatial Visualization"
   ]
  },
  {
   "cell_type": "code",
   "execution_count": null,
   "id": "df0dfc3c",
   "metadata": {},
   "outputs": [],
   "source": [
    "import folium\n",
    "\n",
    "# Create a base map centered around Calgary\n",
    "calgary_map = folium.Map(location=[51.0447, -114.0719], zoom_start=12)\n",
    "\n",
    "# Add parking zones to the map\n",
    "for idx, row in df_clean.iterrows():\n",
    "    if pd.notnull(row.get('LATITUDE')) and pd.notnull(row.get('LONGITUDE')):\n",
    "        folium.CircleMarker(\n",
    "            location=[row['LATITUDE'], row['LONGITUDE']],\n",
    "            radius=5,\n",
    "            popup=f\"Zone: {row['PRICE_ZONE']}, Rate: ${row['HOURLY_RATE']}\",\n",
    "            color='blue',\n",
    "            fill=True,\n",
    "            fill_color='blue'\n",
    "        ).add_to(calgary_map)\n",
    "\n",
    "calgary_map\n"
   ]
  },
  {
   "cell_type": "markdown",
   "id": "63e66d13",
   "metadata": {},
   "source": [
    "## Storytelling Insights\n",
    "\n",
    "- **Rate Distribution**: Most hourly parking rates fall within a typical range, indicating pricing consistency.\n",
    "- **High-Rate Zones**: Some zones have higher average rates, likely reflecting downtown or high-demand areas.\n",
    "- **Geospatial Patterns**: Mapping shows high-rate clusters in central Calgary, highlighting the spatial logic of pricing.\n"
   ]
  }
 ],
 "metadata": {},
 "nbformat": 4,
 "nbformat_minor": 5
}
