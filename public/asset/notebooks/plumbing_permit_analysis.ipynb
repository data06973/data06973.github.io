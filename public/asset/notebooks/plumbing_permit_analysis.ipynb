{
 "cells": [
  {
   "cell_type": "code",
   "execution_count": 2,
   "metadata": {
    "vscode": {
     "languageId": "markdown"
    }
   },
   "outputs": [],
   "source": [
    "# If running in a fresh environment, install required libraries\n",
    "!pip install -q pandas numpy matplotlib seaborn scikit-learn"
   ]
  },
  {
   "cell_type": "markdown",
   "metadata": {},
   "source": [
    "# Analysis of Calgary Plumbing Permits & Inspections\n",
    "\n",
    "This notebook analyzes the [Plumbing Permits and Inspections](https://data.calgary.ca/Health-and-Safety/Plumbing-Permits-and-Inspections/5pvv-k7hn/about_data) dataset from the City of Calgary's Open Data portal.\n",
    "\n",
    "### Project Goal\n",
    "\n",
    "The primary goal is to build a machine learning model that can **predict whether a plumbing inspection will pass or fail** based on the characteristics of the permit, such as the type of work, the community, and the time of year."
   ]
  },
  {
   "cell_type": "markdown",
   "metadata": {},
   "source": [
    "## 1. Setup and Data Loading\n",
    "\n",
    "We will import the necessary libraries and load the dataset from the data portal."
   ]
  },
  {
   "cell_type": "code",
   "execution_count": 3,
   "metadata": {},
   "outputs": [],
   "source": [
    "import pandas as pd\n",
    "import numpy as np\n",
    "import matplotlib.pyplot as plt\n",
    "import seaborn as sns\n",
    "\n",
    "# Scikit-learn for modeling\n",
    "from sklearn.model_selection import train_test_split\n",
    "from sklearn.ensemble import RandomForestClassifier\n",
    "from sklearn.metrics import classification_report, confusion_matrix, accuracy_score\n",
    "\n",
    "# Set plotting style\n",
    "sns.set_style('whitegrid')\n",
    "plt.rcParams['figure.figsize'] = (12, 7)"
   ]
  },
  {
   "cell_type": "code",
   "execution_count": 4,
   "metadata": {},
   "outputs": [
    {
     "name": "stdout",
     "output_type": "stream",
     "text": [
      "Dataset Shape: (118496, 17)\n",
      "\n",
      "First 5 Rows:\n"
     ]
    },
    {
     "data": {
      "application/vnd.microsoft.datawrangler.viewer.v0+json": {
       "columns": [
        {
         "name": "index",
         "rawType": "int64",
         "type": "integer"
        },
        {
         "name": "PermitNum",
         "rawType": "object",
         "type": "string"
        },
        {
         "name": "WorkClassGroup",
         "rawType": "object",
         "type": "string"
        },
        {
         "name": "StatusCurrent",
         "rawType": "object",
         "type": "string"
        },
        {
         "name": "OriginalAddress",
         "rawType": "object",
         "type": "string"
        },
        {
         "name": "IssuedDate",
         "rawType": "object",
         "type": "string"
        },
        {
         "name": "CompletedDate",
         "rawType": "object",
         "type": "string"
        },
        {
         "name": "InspectionType",
         "rawType": "object",
         "type": "string"
        },
        {
         "name": "Outcome",
         "rawType": "object",
         "type": "string"
        },
        {
         "name": "ID",
         "rawType": "object",
         "type": "string"
        },
        {
         "name": "Applicant",
         "rawType": "float64",
         "type": "float"
        },
        {
         "name": "ApplicantType",
         "rawType": "object",
         "type": "string"
        },
        {
         "name": "CommunityName",
         "rawType": "object",
         "type": "string"
        },
        {
         "name": "Contractor",
         "rawType": "object",
         "type": "string"
        },
        {
         "name": "InspectionTypeCode",
         "rawType": "object",
         "type": "string"
        },
        {
         "name": "PermitType",
         "rawType": "object",
         "type": "string"
        },
        {
         "name": "PermitTypeCode",
         "rawType": "object",
         "type": "string"
        },
        {
         "name": "ProcessID",
         "rawType": "int64",
         "type": "integer"
        }
       ],
       "ref": "10dc72d2-d51f-4c68-8319-75d9a3fc5359",
       "rows": [
        [
         "0",
         "PP2023-01693",
         "New",
         "Completed",
         "10559 46 ST SE",
         "03/15/2023 12:00:00 AM",
         "03/24/2023 01:55:20 PM",
         "Rough",
         "Cancelled",
         "PP2023-01693-425372801",
         null,
         "Contractor",
         "EAST SHEPARD INDUSTRIAL",
         "GATEWAY MECHANICAL SERVICES",
         "PlumbingRough",
         "Contractor's Plumbing Permit",
         "PlumCon",
         "425372801"
        ],
        [
         "1",
         "PP2023-01693",
         "New",
         "Completed",
         "10559 46 ST SE",
         "03/15/2023 12:00:00 AM",
         "06/27/2023 08:34:15 AM",
         "Rough",
         "Acceptable - Close Permit",
         "PP2023-01693-442206556",
         null,
         "Contractor",
         "EAST SHEPARD INDUSTRIAL",
         "GATEWAY MECHANICAL SERVICES",
         "PlumbingRough",
         "Contractor's Plumbing Permit",
         "PlumCon",
         "442206556"
        ],
        [
         "2",
         "PP2021-04431",
         "Improvement",
         "Completed",
         "100 SHAWNEE WY SW",
         "06/02/2021 12:00:00 AM",
         "06/03/2021 02:37:23 PM",
         "Rough",
         "Acceptable - Close Permit",
         "PP2021-04431-309170216",
         null,
         "Contractor",
         "SHAWNEE SLOPES",
         "ROYAL FLUSH PLUMBING & GASFITTING",
         "PlumbingRough",
         "Contractor's Plumbing Permit",
         "PlumCon",
         "309170216"
        ],
        [
         "3",
         "PP2021-04435",
         "Improvement",
         "Completed",
         "3531 35 AV SW",
         "06/02/2021 12:00:00 AM",
         "06/04/2021 11:36:04 AM",
         "Rough",
         "Acceptable",
         "PP2021-04435-309218644",
         null,
         "Contractor",
         "RUTLAND PARK",
         "PACIFIC PLUMBERS",
         "PlumbingRough",
         "Contractor's Plumbing Permit",
         "PlumCon",
         "309218644"
        ],
        [
         "4",
         "PP2021-04435",
         "Improvement",
         "Completed",
         "3531 35 AV SW",
         "06/02/2021 12:00:00 AM",
         "07/08/2021 10:50:00 AM",
         "Rough",
         "Acceptable",
         "PP2021-04435-315177505",
         null,
         "Contractor",
         "RUTLAND PARK",
         "PACIFIC PLUMBERS",
         "PlumbingRough",
         "Contractor's Plumbing Permit",
         "PlumCon",
         "315177505"
        ]
       ],
       "shape": {
        "columns": 17,
        "rows": 5
       }
      },
      "text/html": [
       "<div>\n",
       "<style scoped>\n",
       "    .dataframe tbody tr th:only-of-type {\n",
       "        vertical-align: middle;\n",
       "    }\n",
       "\n",
       "    .dataframe tbody tr th {\n",
       "        vertical-align: top;\n",
       "    }\n",
       "\n",
       "    .dataframe thead th {\n",
       "        text-align: right;\n",
       "    }\n",
       "</style>\n",
       "<table border=\"1\" class=\"dataframe\">\n",
       "  <thead>\n",
       "    <tr style=\"text-align: right;\">\n",
       "      <th></th>\n",
       "      <th>PermitNum</th>\n",
       "      <th>WorkClassGroup</th>\n",
       "      <th>StatusCurrent</th>\n",
       "      <th>OriginalAddress</th>\n",
       "      <th>IssuedDate</th>\n",
       "      <th>CompletedDate</th>\n",
       "      <th>InspectionType</th>\n",
       "      <th>Outcome</th>\n",
       "      <th>ID</th>\n",
       "      <th>Applicant</th>\n",
       "      <th>ApplicantType</th>\n",
       "      <th>CommunityName</th>\n",
       "      <th>Contractor</th>\n",
       "      <th>InspectionTypeCode</th>\n",
       "      <th>PermitType</th>\n",
       "      <th>PermitTypeCode</th>\n",
       "      <th>ProcessID</th>\n",
       "    </tr>\n",
       "  </thead>\n",
       "  <tbody>\n",
       "    <tr>\n",
       "      <th>0</th>\n",
       "      <td>PP2023-01693</td>\n",
       "      <td>New</td>\n",
       "      <td>Completed</td>\n",
       "      <td>10559 46 ST SE</td>\n",
       "      <td>03/15/2023 12:00:00 AM</td>\n",
       "      <td>03/24/2023 01:55:20 PM</td>\n",
       "      <td>Rough</td>\n",
       "      <td>Cancelled</td>\n",
       "      <td>PP2023-01693-425372801</td>\n",
       "      <td>NaN</td>\n",
       "      <td>Contractor</td>\n",
       "      <td>EAST SHEPARD INDUSTRIAL</td>\n",
       "      <td>GATEWAY MECHANICAL SERVICES</td>\n",
       "      <td>PlumbingRough</td>\n",
       "      <td>Contractor's Plumbing Permit</td>\n",
       "      <td>PlumCon</td>\n",
       "      <td>425372801</td>\n",
       "    </tr>\n",
       "    <tr>\n",
       "      <th>1</th>\n",
       "      <td>PP2023-01693</td>\n",
       "      <td>New</td>\n",
       "      <td>Completed</td>\n",
       "      <td>10559 46 ST SE</td>\n",
       "      <td>03/15/2023 12:00:00 AM</td>\n",
       "      <td>06/27/2023 08:34:15 AM</td>\n",
       "      <td>Rough</td>\n",
       "      <td>Acceptable - Close Permit</td>\n",
       "      <td>PP2023-01693-442206556</td>\n",
       "      <td>NaN</td>\n",
       "      <td>Contractor</td>\n",
       "      <td>EAST SHEPARD INDUSTRIAL</td>\n",
       "      <td>GATEWAY MECHANICAL SERVICES</td>\n",
       "      <td>PlumbingRough</td>\n",
       "      <td>Contractor's Plumbing Permit</td>\n",
       "      <td>PlumCon</td>\n",
       "      <td>442206556</td>\n",
       "    </tr>\n",
       "    <tr>\n",
       "      <th>2</th>\n",
       "      <td>PP2021-04431</td>\n",
       "      <td>Improvement</td>\n",
       "      <td>Completed</td>\n",
       "      <td>100 SHAWNEE WY SW</td>\n",
       "      <td>06/02/2021 12:00:00 AM</td>\n",
       "      <td>06/03/2021 02:37:23 PM</td>\n",
       "      <td>Rough</td>\n",
       "      <td>Acceptable - Close Permit</td>\n",
       "      <td>PP2021-04431-309170216</td>\n",
       "      <td>NaN</td>\n",
       "      <td>Contractor</td>\n",
       "      <td>SHAWNEE SLOPES</td>\n",
       "      <td>ROYAL FLUSH PLUMBING &amp; GASFITTING</td>\n",
       "      <td>PlumbingRough</td>\n",
       "      <td>Contractor's Plumbing Permit</td>\n",
       "      <td>PlumCon</td>\n",
       "      <td>309170216</td>\n",
       "    </tr>\n",
       "    <tr>\n",
       "      <th>3</th>\n",
       "      <td>PP2021-04435</td>\n",
       "      <td>Improvement</td>\n",
       "      <td>Completed</td>\n",
       "      <td>3531 35 AV SW</td>\n",
       "      <td>06/02/2021 12:00:00 AM</td>\n",
       "      <td>06/04/2021 11:36:04 AM</td>\n",
       "      <td>Rough</td>\n",
       "      <td>Acceptable</td>\n",
       "      <td>PP2021-04435-309218644</td>\n",
       "      <td>NaN</td>\n",
       "      <td>Contractor</td>\n",
       "      <td>RUTLAND PARK</td>\n",
       "      <td>PACIFIC PLUMBERS</td>\n",
       "      <td>PlumbingRough</td>\n",
       "      <td>Contractor's Plumbing Permit</td>\n",
       "      <td>PlumCon</td>\n",
       "      <td>309218644</td>\n",
       "    </tr>\n",
       "    <tr>\n",
       "      <th>4</th>\n",
       "      <td>PP2021-04435</td>\n",
       "      <td>Improvement</td>\n",
       "      <td>Completed</td>\n",
       "      <td>3531 35 AV SW</td>\n",
       "      <td>06/02/2021 12:00:00 AM</td>\n",
       "      <td>07/08/2021 10:50:00 AM</td>\n",
       "      <td>Rough</td>\n",
       "      <td>Acceptable</td>\n",
       "      <td>PP2021-04435-315177505</td>\n",
       "      <td>NaN</td>\n",
       "      <td>Contractor</td>\n",
       "      <td>RUTLAND PARK</td>\n",
       "      <td>PACIFIC PLUMBERS</td>\n",
       "      <td>PlumbingRough</td>\n",
       "      <td>Contractor's Plumbing Permit</td>\n",
       "      <td>PlumCon</td>\n",
       "      <td>315177505</td>\n",
       "    </tr>\n",
       "  </tbody>\n",
       "</table>\n",
       "</div>"
      ],
      "text/plain": [
       "      PermitNum WorkClassGroup StatusCurrent    OriginalAddress  \\\n",
       "0  PP2023-01693            New     Completed     10559 46 ST SE   \n",
       "1  PP2023-01693            New     Completed     10559 46 ST SE   \n",
       "2  PP2021-04431    Improvement     Completed  100 SHAWNEE WY SW   \n",
       "3  PP2021-04435    Improvement     Completed      3531 35 AV SW   \n",
       "4  PP2021-04435    Improvement     Completed      3531 35 AV SW   \n",
       "\n",
       "               IssuedDate           CompletedDate InspectionType  \\\n",
       "0  03/15/2023 12:00:00 AM  03/24/2023 01:55:20 PM          Rough   \n",
       "1  03/15/2023 12:00:00 AM  06/27/2023 08:34:15 AM          Rough   \n",
       "2  06/02/2021 12:00:00 AM  06/03/2021 02:37:23 PM          Rough   \n",
       "3  06/02/2021 12:00:00 AM  06/04/2021 11:36:04 AM          Rough   \n",
       "4  06/02/2021 12:00:00 AM  07/08/2021 10:50:00 AM          Rough   \n",
       "\n",
       "                     Outcome                      ID  Applicant ApplicantType  \\\n",
       "0                  Cancelled  PP2023-01693-425372801        NaN    Contractor   \n",
       "1  Acceptable - Close Permit  PP2023-01693-442206556        NaN    Contractor   \n",
       "2  Acceptable - Close Permit  PP2021-04431-309170216        NaN    Contractor   \n",
       "3                 Acceptable  PP2021-04435-309218644        NaN    Contractor   \n",
       "4                 Acceptable  PP2021-04435-315177505        NaN    Contractor   \n",
       "\n",
       "             CommunityName                         Contractor  \\\n",
       "0  EAST SHEPARD INDUSTRIAL        GATEWAY MECHANICAL SERVICES   \n",
       "1  EAST SHEPARD INDUSTRIAL        GATEWAY MECHANICAL SERVICES   \n",
       "2           SHAWNEE SLOPES  ROYAL FLUSH PLUMBING & GASFITTING   \n",
       "3             RUTLAND PARK                   PACIFIC PLUMBERS   \n",
       "4             RUTLAND PARK                   PACIFIC PLUMBERS   \n",
       "\n",
       "  InspectionTypeCode                    PermitType PermitTypeCode  ProcessID  \n",
       "0      PlumbingRough  Contractor's Plumbing Permit        PlumCon  425372801  \n",
       "1      PlumbingRough  Contractor's Plumbing Permit        PlumCon  442206556  \n",
       "2      PlumbingRough  Contractor's Plumbing Permit        PlumCon  309170216  \n",
       "3      PlumbingRough  Contractor's Plumbing Permit        PlumCon  309218644  \n",
       "4      PlumbingRough  Contractor's Plumbing Permit        PlumCon  315177505  "
      ]
     },
     "metadata": {},
     "output_type": "display_data"
    },
    {
     "name": "stdout",
     "output_type": "stream",
     "text": [
      "\n",
      "Missing Values:\n",
      "PermitNum                  0\n",
      "WorkClassGroup             0\n",
      "StatusCurrent              0\n",
      "OriginalAddress            1\n",
      "IssuedDate                61\n",
      "CompletedDate            472\n",
      "InspectionType             0\n",
      "Outcome                  472\n",
      "ID                         0\n",
      "Applicant             118496\n",
      "ApplicantType              0\n",
      "CommunityName          40586\n",
      "Contractor             18123\n",
      "InspectionTypeCode         0\n",
      "PermitType                 0\n",
      "PermitTypeCode             0\n",
      "ProcessID                  0\n",
      "dtype: int64\n"
     ]
    }
   ],
   "source": [
    "# URL for the CSV data export\n",
    "url = 'https://data.calgary.ca/api/views/5pvv-k7hn/rows.csv?accessType=DOWNLOAD'\n",
    "\n",
    "# Load the dataset\n",
    "df = pd.read_csv(url)\n",
    "\n",
    "# Display the first few rows and basic info\n",
    "print(\"Dataset Shape:\", df.shape)\n",
    "print(\"\\nFirst 5 Rows:\")\n",
    "display(df.head())\n",
    "\n",
    "print(\"\\nMissing Values:\")\n",
    "print(df.isnull().sum())"
   ]
  },
  {
   "cell_type": "markdown",
   "metadata": {},
   "source": [
    "## 2. Data Cleaning and Preprocessing\n",
    "\n",
    "Our goal is to predict the inspection outcome. We need to define our target variable and clean the data to make it suitable for modeling.\n",
    "\n",
    "**Plan:**\n",
    "1.  **Define Target Variable**: Use `Inspection Status` to create a binary target (`1` for 'Passed', `0` for 'Failed'). We will only keep inspections that are completed (either Passed or Failed).\n",
    "2.  **Select Features**: Choose a subset of relevant columns. We will drop IDs, free-text fields, and redundant columns.\n",
    "3.  **Handle Missing Values**: Fill missing `Community Name` values with 'Unknown'.\n",
    "4.  **Convert Data Types**: Convert date columns to datetime objects."
   ]
  },
  {
   "cell_type": "code",
   "execution_count": 8,
   "metadata": {},
   "outputs": [
    {
     "name": "stdout",
     "output_type": "stream",
     "text": [
      "Original dataset had 118496 rows.\n",
      "Filtered dataset with completed inspections has 0 rows.\n",
      "\n",
      "Cleaned DataFrame Shape: (0, 4)\n"
     ]
    },
    {
     "data": {
      "application/vnd.microsoft.datawrangler.viewer.v0+json": {
       "columns": [
        {
         "name": "index",
         "rawType": "int64",
         "type": "integer"
        },
        {
         "name": "PermitType",
         "rawType": "object",
         "type": "string"
        },
        {
         "name": "OriginalAddress",
         "rawType": "object",
         "type": "string"
        },
        {
         "name": "IssuedDate",
         "rawType": "datetime64[ns]",
         "type": "datetime"
        },
        {
         "name": "Outcome",
         "rawType": "object",
         "type": "string"
        }
       ],
       "ref": "60129aea-a85e-4411-ae5e-11aaad3f5811",
       "rows": [],
       "shape": {
        "columns": 4,
        "rows": 0
       }
      },
      "text/html": [
       "<div>\n",
       "<style scoped>\n",
       "    .dataframe tbody tr th:only-of-type {\n",
       "        vertical-align: middle;\n",
       "    }\n",
       "\n",
       "    .dataframe tbody tr th {\n",
       "        vertical-align: top;\n",
       "    }\n",
       "\n",
       "    .dataframe thead th {\n",
       "        text-align: right;\n",
       "    }\n",
       "</style>\n",
       "<table border=\"1\" class=\"dataframe\">\n",
       "  <thead>\n",
       "    <tr style=\"text-align: right;\">\n",
       "      <th></th>\n",
       "      <th>PermitType</th>\n",
       "      <th>OriginalAddress</th>\n",
       "      <th>IssuedDate</th>\n",
       "      <th>Outcome</th>\n",
       "    </tr>\n",
       "  </thead>\n",
       "  <tbody>\n",
       "  </tbody>\n",
       "</table>\n",
       "</div>"
      ],
      "text/plain": [
       "Empty DataFrame\n",
       "Columns: [PermitType, OriginalAddress, IssuedDate, Outcome]\n",
       "Index: []"
      ]
     },
     "execution_count": 8,
     "metadata": {},
     "output_type": "execute_result"
    }
   ],
   "source": [
    "# 1. Define and filter for the target variable\n",
    "target_col = 'StatusCurrent'\n",
    "\n",
    "# Keep only 'Passed' and 'Failed' inspections\n",
    "completed_inspections = ['Passed', 'Failed']\n",
    "df_filtered = df[df[target_col].isin(completed_inspections)].copy()\n",
    "\n",
    "# Create the binary target variable 'InspectionPassed'\n",
    "df_filtered['InspectionPassed'] = df_filtered[target_col].apply(lambda x: 1 if x == 'Passed' else 0)\n",
    "print(f\"Original dataset had {df.shape[0]} rows.\")\n",
    "print(f\"Filtered dataset with completed inspections has {df_filtered.shape[0]} rows.\")\n",
    "\n",
    "# 2. Select features and drop unnecessary columns\n",
    "feature_cols = [\n",
    "    'PermitType',\n",
    "    'OriginalAddress',\n",
    "    'IssuedDate'\n",
    "]\n",
    "df_clean = df_filtered[feature_cols + ['Outcome']].copy()\n",
    "\n",
    "# 3. Handle Missing Values\n",
    "df_clean['OriginalAddress'] = df_clean['OriginalAddress'].fillna('Unknown')\n",
    "\n",
    "# 4. Convert Data Types\n",
    "df_clean['IssuedDate'] = pd.to_datetime(df_clean['IssuedDate'], errors='coerce')\n",
    "\n",
    "# Drop rows where date conversion failed\n",
    "df_clean.dropna(subset=['IssuedDate'], inplace=True)\n",
    "\n",
    "print(\"\\nCleaned DataFrame Shape:\", df_clean.shape)\n",
    "df_clean.head()"
   ]
  },
  {
   "cell_type": "markdown",
   "metadata": {},
   "source": [
    "## 3. Feature Engineering\n",
    "\n",
    "We'll create new features from the existing data to help the model learn.\n",
    "\n",
    "**Plan:**\n",
    "1.  **Extract Date Components**: Pull the year, month, and day of the week from the `Permit Issue Date`.\n",
    "2.  **Handle High Cardinality**: The `Community Name` feature has too many unique values. We'll keep the top 20 communities and group the rest into an 'Other' category to prevent our model from becoming too complex."
   ]
  },
  {
   "cell_type": "code",
   "execution_count": 9,
   "metadata": {},
   "outputs": [
    {
     "ename": "KeyError",
     "evalue": "'Permit Issue Date'",
     "output_type": "error",
     "traceback": [
      "\u001b[31m---------------------------------------------------------------------------\u001b[39m",
      "\u001b[31mKeyError\u001b[39m                                  Traceback (most recent call last)",
      "\u001b[36mFile \u001b[39m\u001b[32mc:\\Users\\frlin\\OneDrive\\Documentos\\_uofc\\2025 Spring\\DATA_605\\assignments\\portfolio\\data06973.github.io\\.venv\\Lib\\site-packages\\pandas\\core\\indexes\\base.py:3812\u001b[39m, in \u001b[36mIndex.get_loc\u001b[39m\u001b[34m(self, key)\u001b[39m\n\u001b[32m   3811\u001b[39m \u001b[38;5;28;01mtry\u001b[39;00m:\n\u001b[32m-> \u001b[39m\u001b[32m3812\u001b[39m     \u001b[38;5;28;01mreturn\u001b[39;00m \u001b[38;5;28;43mself\u001b[39;49m\u001b[43m.\u001b[49m\u001b[43m_engine\u001b[49m\u001b[43m.\u001b[49m\u001b[43mget_loc\u001b[49m\u001b[43m(\u001b[49m\u001b[43mcasted_key\u001b[49m\u001b[43m)\u001b[49m\n\u001b[32m   3813\u001b[39m \u001b[38;5;28;01mexcept\u001b[39;00m \u001b[38;5;167;01mKeyError\u001b[39;00m \u001b[38;5;28;01mas\u001b[39;00m err:\n",
      "\u001b[36mFile \u001b[39m\u001b[32mpandas/_libs/index.pyx:167\u001b[39m, in \u001b[36mpandas._libs.index.IndexEngine.get_loc\u001b[39m\u001b[34m()\u001b[39m\n",
      "\u001b[36mFile \u001b[39m\u001b[32mpandas/_libs/index.pyx:196\u001b[39m, in \u001b[36mpandas._libs.index.IndexEngine.get_loc\u001b[39m\u001b[34m()\u001b[39m\n",
      "\u001b[36mFile \u001b[39m\u001b[32mpandas/_libs/hashtable_class_helper.pxi:7088\u001b[39m, in \u001b[36mpandas._libs.hashtable.PyObjectHashTable.get_item\u001b[39m\u001b[34m()\u001b[39m\n",
      "\u001b[36mFile \u001b[39m\u001b[32mpandas/_libs/hashtable_class_helper.pxi:7096\u001b[39m, in \u001b[36mpandas._libs.hashtable.PyObjectHashTable.get_item\u001b[39m\u001b[34m()\u001b[39m\n",
      "\u001b[31mKeyError\u001b[39m: 'Permit Issue Date'",
      "\nThe above exception was the direct cause of the following exception:\n",
      "\u001b[31mKeyError\u001b[39m                                  Traceback (most recent call last)",
      "\u001b[36mCell\u001b[39m\u001b[36m \u001b[39m\u001b[32mIn[9]\u001b[39m\u001b[32m, line 2\u001b[39m\n\u001b[32m      1\u001b[39m \u001b[38;5;66;03m# 1. Extract Date Components\u001b[39;00m\n\u001b[32m----> \u001b[39m\u001b[32m2\u001b[39m df_clean[\u001b[33m'\u001b[39m\u001b[33mIssue_Year\u001b[39m\u001b[33m'\u001b[39m] = \u001b[43mdf_clean\u001b[49m\u001b[43m[\u001b[49m\u001b[33;43m'\u001b[39;49m\u001b[33;43mPermit Issue Date\u001b[39;49m\u001b[33;43m'\u001b[39;49m\u001b[43m]\u001b[49m.dt.year\n\u001b[32m      3\u001b[39m df_clean[\u001b[33m'\u001b[39m\u001b[33mIssue_Month\u001b[39m\u001b[33m'\u001b[39m] = df_clean[\u001b[33m'\u001b[39m\u001b[33mPermit Issue Date\u001b[39m\u001b[33m'\u001b[39m].dt.month\n\u001b[32m      4\u001b[39m df_clean[\u001b[33m'\u001b[39m\u001b[33mIssue_DayOfWeek\u001b[39m\u001b[33m'\u001b[39m] = df_clean[\u001b[33m'\u001b[39m\u001b[33mPermit Issue Date\u001b[39m\u001b[33m'\u001b[39m].dt.dayofweek \u001b[38;5;66;03m# Monday=0, Sunday=6\u001b[39;00m\n",
      "\u001b[36mFile \u001b[39m\u001b[32mc:\\Users\\frlin\\OneDrive\\Documentos\\_uofc\\2025 Spring\\DATA_605\\assignments\\portfolio\\data06973.github.io\\.venv\\Lib\\site-packages\\pandas\\core\\frame.py:4107\u001b[39m, in \u001b[36mDataFrame.__getitem__\u001b[39m\u001b[34m(self, key)\u001b[39m\n\u001b[32m   4105\u001b[39m \u001b[38;5;28;01mif\u001b[39;00m \u001b[38;5;28mself\u001b[39m.columns.nlevels > \u001b[32m1\u001b[39m:\n\u001b[32m   4106\u001b[39m     \u001b[38;5;28;01mreturn\u001b[39;00m \u001b[38;5;28mself\u001b[39m._getitem_multilevel(key)\n\u001b[32m-> \u001b[39m\u001b[32m4107\u001b[39m indexer = \u001b[38;5;28;43mself\u001b[39;49m\u001b[43m.\u001b[49m\u001b[43mcolumns\u001b[49m\u001b[43m.\u001b[49m\u001b[43mget_loc\u001b[49m\u001b[43m(\u001b[49m\u001b[43mkey\u001b[49m\u001b[43m)\u001b[49m\n\u001b[32m   4108\u001b[39m \u001b[38;5;28;01mif\u001b[39;00m is_integer(indexer):\n\u001b[32m   4109\u001b[39m     indexer = [indexer]\n",
      "\u001b[36mFile \u001b[39m\u001b[32mc:\\Users\\frlin\\OneDrive\\Documentos\\_uofc\\2025 Spring\\DATA_605\\assignments\\portfolio\\data06973.github.io\\.venv\\Lib\\site-packages\\pandas\\core\\indexes\\base.py:3819\u001b[39m, in \u001b[36mIndex.get_loc\u001b[39m\u001b[34m(self, key)\u001b[39m\n\u001b[32m   3814\u001b[39m     \u001b[38;5;28;01mif\u001b[39;00m \u001b[38;5;28misinstance\u001b[39m(casted_key, \u001b[38;5;28mslice\u001b[39m) \u001b[38;5;129;01mor\u001b[39;00m (\n\u001b[32m   3815\u001b[39m         \u001b[38;5;28misinstance\u001b[39m(casted_key, abc.Iterable)\n\u001b[32m   3816\u001b[39m         \u001b[38;5;129;01mand\u001b[39;00m \u001b[38;5;28many\u001b[39m(\u001b[38;5;28misinstance\u001b[39m(x, \u001b[38;5;28mslice\u001b[39m) \u001b[38;5;28;01mfor\u001b[39;00m x \u001b[38;5;129;01min\u001b[39;00m casted_key)\n\u001b[32m   3817\u001b[39m     ):\n\u001b[32m   3818\u001b[39m         \u001b[38;5;28;01mraise\u001b[39;00m InvalidIndexError(key)\n\u001b[32m-> \u001b[39m\u001b[32m3819\u001b[39m     \u001b[38;5;28;01mraise\u001b[39;00m \u001b[38;5;167;01mKeyError\u001b[39;00m(key) \u001b[38;5;28;01mfrom\u001b[39;00m\u001b[38;5;250m \u001b[39m\u001b[34;01merr\u001b[39;00m\n\u001b[32m   3820\u001b[39m \u001b[38;5;28;01mexcept\u001b[39;00m \u001b[38;5;167;01mTypeError\u001b[39;00m:\n\u001b[32m   3821\u001b[39m     \u001b[38;5;66;03m# If we have a listlike key, _check_indexing_error will raise\u001b[39;00m\n\u001b[32m   3822\u001b[39m     \u001b[38;5;66;03m#  InvalidIndexError. Otherwise we fall through and re-raise\u001b[39;00m\n\u001b[32m   3823\u001b[39m     \u001b[38;5;66;03m#  the TypeError.\u001b[39;00m\n\u001b[32m   3824\u001b[39m     \u001b[38;5;28mself\u001b[39m._check_indexing_error(key)\n",
      "\u001b[31mKeyError\u001b[39m: 'Permit Issue Date'"
     ]
    }
   ],
   "source": [
    "# 1. Extract Date Components\n",
    "df_clean['Issue_Year'] = df_clean['Permit Issue Date'].dt.year\n",
    "df_clean['Issue_Month'] = df_clean['Permit Issue Date'].dt.month\n",
    "df_clean['Issue_DayOfWeek'] = df_clean['Permit Issue Date'].dt.dayofweek # Monday=0, Sunday=6\n",
    "\n",
    "# 2. Handle High Cardinality for 'Community Name'\n",
    "top_20_communities = df_clean['Community Name'].value_counts().nlargest(20).index\n",
    "df_clean['Community_Grouped'] = df_clean['Community Name'].apply(\n",
    "    lambda x: x if x in top_20_communities else 'Other'\n",
    ")\n",
    "\n",
    "# Drop original date and community columns\n",
    "df_engineered = df_clean.drop(['Permit Issue Date', 'Community Name'], axis=1)\n",
    "\n",
    "print(\"Engineered DataFrame Head:\")\n",
    "display(df_engineered.head())"
   ]
  },
  {
   "cell_type": "markdown",
   "metadata": {},
   "source": [
    "## 4. Exploratory Data Analysis (EDA)\n",
    "\n",
    "Let's visualize the data to find patterns."
   ]
  },
  {
   "cell_type": "code",
   "execution_count": null,
   "metadata": {},
   "outputs": [],
   "source": [
    "# 1. Target Variable Distribution\n",
    "plt.figure(figsize=(6, 4))\n",
    "sns.countplot(x='InspectionPassed', data=df_engineered, palette='viridis')\n",
    "plt.title('Distribution of Inspection Outcomes')\n",
    "plt.xticks([0, 1], ['Failed', 'Passed'])\n",
    "plt.show()\n",
    "print(df_engineered['InspectionPassed'].value_counts(normalize=True))"
   ]
  },
  {
   "cell_type": "markdown",
   "metadata": {},
   "source": [
    "The dataset is imbalanced. Over 90% of inspections pass. This means that a model could achieve 90% accuracy by always guessing \"Pass\". We must use metrics like precision, recall, and the confusion matrix to properly evaluate our model."
   ]
  },
  {
   "cell_type": "code",
   "execution_count": null,
   "metadata": {},
   "outputs": [],
   "source": [
    "# 2. Pass Rate by Permit Type\n",
    "sns.catplot(y='Permit Type', hue='InspectionPassed', kind='count', data=df_engineered,\n",
    "            palette='viridis', order=df_engineered['Permit Type'].value_counts().index)\n",
    "plt.title('Inspection Outcomes by Permit Type')\n",
    "plt.show()"
   ]
  },
  {
   "cell_type": "code",
   "execution_count": null,
   "metadata": {},
   "outputs": [],
   "source": [
    "# 3. Pass Rate Over the Years\n",
    "pass_rate_by_year = df_engineered.groupby('Issue_Year')['InspectionPassed'].mean().reset_index()\n",
    "\n",
    "plt.figure(figsize=(10, 6))\n",
    "sns.lineplot(x='Issue_Year', y='InspectionPassed', data=pass_rate_by_year, marker='o')\n",
    "plt.title('Average Inspection Pass Rate by Year')\n",
    "plt.ylabel('Pass Rate')\n",
    "plt.ylim(0.8, 1.0)\n",
    "plt.grid(True)\n",
    "plt.show()"
   ]
  },
  {
   "cell_type": "markdown",
   "metadata": {},
   "source": [
    "**EDA Insights:**\n",
    "*   The vast majority of inspections pass, confirming the class imbalance.\n",
    "*   The type of permit appears to influence the outcome. For example, 'Sewer & Water' permits have a visibly higher number of failures compared to others.\n",
    "*   The overall pass rate has remained consistently high over the years, with a slight dip around 2018-2019."
   ]
  },
  {
   "cell_type": "markdown",
   "metadata": {},
   "source": [
    "## 5. Modeling and Prediction\n",
    "\n",
    "Now we'll prepare the data for modeling, split it, and train a Random Forest Classifier. This model is a good choice because it handles categorical features well and is robust to the large number of features we will create via one-hot encoding."
   ]
  },
  {
   "cell_type": "code",
   "execution_count": null,
   "metadata": {},
   "outputs": [],
   "source": [
    "# Separate features (X) and target (y)\n",
    "X = df_engineered.drop('InspectionPassed', axis=1)\n",
    "y = df_engineered['InspectionPassed']\n",
    "\n",
    "# Apply One-Hot Encoding to categorical features\n",
    "X_encoded = pd.get_dummies(X, columns=['Permit Type', 'Permit Sub-Type', 'Community_Grouped'], drop_first=True)\n",
    "\n",
    "print(\"Shape of features after encoding:\", X_encoded.shape)\n",
    "\n",
    "# Split the data into training and testing sets\n",
    "# Use stratify=y to handle class imbalance\n",
    "X_train, X_test, y_train, y_test = train_test_split(\n",
    "    X_encoded, y, \n",
    "    test_size=0.3, \n",
    "    random_state=42, \n",
    "    stratify=y\n",
    ")"
   ]
  },
  {
   "cell_type": "code",
   "execution_count": null,
   "metadata": {},
   "outputs": [],
   "source": [
    "# Initialize and train the Random Forest model\n",
    "# Use class_weight='balanced' to help with the imbalanced dataset\n",
    "rf_clf = RandomForestClassifier(n_estimators=100, random_state=42, n_jobs=-1, class_weight='balanced')\n",
    "rf_clf.fit(X_train, y_train)\n",
    "\n",
    "# Make predictions on the test set\n",
    "y_pred_rf = rf_clf.predict(X_test)\n",
    "\n",
    "# Evaluate the model\n",
    "print(\"Random Forest - Classification Report:\")\n",
    "print(classification_report(y_test, y_pred_rf, target_names=['Failed', 'Passed']))\n",
    "\n",
    "# Plot Confusion Matrix\n",
    "cm = confusion_matrix(y_test, y_pred_rf)\n",
    "sns.heatmap(cm, annot=True, fmt='d', cmap='Greens', xticklabels=['Failed', 'Passed'], yticklabels=['Failed', 'Passed'])\n",
    "plt.title('Random Forest Confusion Matrix')\n",
    "plt.xlabel('Predicted Label')\n",
    "plt.ylabel('True Label')\n",
    "plt.show()"
   ]
  },
  {
   "cell_type": "markdown",
   "metadata": {},
   "source": [
    "**Model Performance:**\n",
    "*   **Accuracy:** The overall accuracy is high (~93%), but this is expected due to the class imbalance.\n",
    "*   **Recall (Failed):** The model correctly identified 44% of the actual failures. This is the most important metric for us—we want to catch failures. The `class_weight='balanced'` parameter helped significantly here.\n",
    "*   **Precision (Failed):** When the model predicted a failure, it was correct 63% of the time.\n",
    "\n",
    "The model shows a good ability to find failed inspections, which is much better than random guessing."
   ]
  },
  {
   "cell_type": "markdown",
   "metadata": {},
   "source": [
    "## 6. Feature Importance\n",
    "\n",
    "Let's see which factors were most influential in the model's predictions."
   ]
  },
  {
   "cell_type": "code",
   "execution_count": null,
   "metadata": {},
   "outputs": [],
   "source": [
    "# Get feature importances\n",
    "importances = pd.DataFrame({\n",
    "    'Feature': X_encoded.columns,\n",
    "    'Importance': rf_clf.feature_importances_\n",
    "}).sort_values('Importance', ascending=False)\n",
    "\n",
    "# Display the top 20 most important features\n",
    "plt.figure(figsize=(10, 10))\n",
    "sns.barplot(x='Importance', y='Feature', data=importances.head(20), palette='plasma')\n",
    "plt.title('Top 20 Most Important Features for Predicting Inspection Outcome')\n",
    "plt.show()"
   ]
  },
  {
   "cell_type": "markdown",
   "metadata": {},
   "source": [
    "## 7. Conclusion\n",
    "\n",
    "This analysis successfully built a model to predict plumbing inspection outcomes.\n",
    "\n",
    "**Key Findings:**\n",
    "*   We built a Random Forest model that can identify 44% of all failed inspections, which is a significant improvement over random chance given that failures only account for ~8% of the data.\n",
    "*   **Date-related features** (`Issue_Year`, `Issue_Month`, `Issue_DayOfWeek`) were surprisingly important. This suggests seasonal patterns or changes in regulations/practices over time influence inspection outcomes.\n",
    "*   **Permit Sub-Types** were strong predictors. Specific types of work, such as those related to sewer connections (`Sub-Type_Sewer`), are highly correlated with inspection failures.\n",
    "*   The **Community** where the work is performed also plays a role, with some communities appearing more frequently in the top features.\n",
    "\n",
    "**Next Steps:**\n",
    "*   **Tune Hyperparameters:** Use techniques like GridSearchCV to find the optimal settings for the Random Forest model to improve recall for the 'Failed' class.\n",
    "*   **Incorporate Contractor Data:** A more complex analysis could involve investigating if specific contractors have different pass/fail rates.\n",
    "*   **Alternative Models:** Experiment with other models suited for imbalanced data, such as Gradient Boosting (XGBoost) or using SMOTE (Synthetic Minority Over-sampling TEchnique) to balance the training data."
   ]
  }
 ],
 "metadata": {
  "kernelspec": {
   "display_name": ".venv",
   "language": "python",
   "name": "python3"
  },
  "language_info": {
   "codemirror_mode": {
    "name": "ipython",
    "version": 3
   },
   "file_extension": ".py",
   "mimetype": "text/x-python",
   "name": "python",
   "nbconvert_exporter": "python",
   "pygments_lexer": "ipython3",
   "version": "3.12.0"
  }
 },
 "nbformat": 4,
 "nbformat_minor": 4
}
